{
 "cells": [
  {
   "cell_type": "markdown",
   "metadata": {
    "id": "d1sVIyFYV1LA"
   },
   "source": [
    "Documentation used: https://python-binance.readthedocs.io/en/latest/ "
   ]
  },
  {
   "cell_type": "code",
   "execution_count": 1,
   "metadata": {
    "id": "UCEBWYxVQbuf"
   },
   "outputs": [],
   "source": [
    "import pandas as pd\n",
    "import sqlalchemy\n",
    "from binance.client import Client\n",
    "from binance import BinanceSocketManager"
   ]
  },
  {
   "cell_type": "code",
   "execution_count": 2,
   "metadata": {
    "id": "6MwHoQ0FeKKq"
   },
   "outputs": [],
   "source": [
    "#For privacy purposes \n",
    "%run ./Binance_keys.ipynb"
   ]
  },
  {
   "cell_type": "code",
   "execution_count": 3,
   "metadata": {
    "id": "t6pb8886Qbug"
   },
   "outputs": [],
   "source": [
    "client = Client(api_key,api_secret)"
   ]
  },
  {
   "cell_type": "code",
   "execution_count": 4,
   "metadata": {
    "id": "kjuyVePjUO2W"
   },
   "outputs": [],
   "source": [
    "bsm = BinanceSocketManager(client)"
   ]
  },
  {
   "cell_type": "code",
   "execution_count": 5,
   "metadata": {
    "id": "Agt3j8snQbug"
   },
   "outputs": [],
   "source": [
    "#Make a dataframe out of data recieved from Binance\n",
    "def createframe(msg):\n",
    "    df = pd.DataFrame([msg])\n",
    "    df = df.loc[:,['s','E','p']]\n",
    "    df.columns = ['symbol','Time','Price']\n",
    "    df.Price = df.Price.astype(float )\n",
    "    df.Time = pd.to_datetime(df.Time, unit = 'ms')\n",
    "    return df"
   ]
  },
  {
   "cell_type": "code",
   "execution_count": 6,
   "metadata": {
    "id": "EK9NrMupTJS9"
   },
   "outputs": [],
   "source": [
    "#Store dataframe from Binance in a database\n",
    "engine = sqlalchemy.create_engine('sqlite:///BTCUSDTstream.db')"
   ]
  },
  {
   "cell_type": "code",
   "execution_count": 7,
   "metadata": {},
   "outputs": [
    {
     "name": "stdout",
     "output_type": "stream",
     "text": [
      "{'e': 'trade', 'E': 1677189957266, 's': 'BTCUSDT', 't': 2789349891, 'p': '23844.83000000', 'q': '0.00064000', 'b': 19135307296, 'a': 19135307106, 'T': 1677189957266, 'm': False, 'M': True}\n",
      "{'e': 'trade', 'E': 1677189957384, 's': 'BTCUSDT', 't': 2789349892, 'p': '23844.83000000', 'q': '0.00001000', 'b': 19135307337, 'a': 19135307106, 'T': 1677189957384, 'm': False, 'M': True}\n",
      "{'e': 'trade', 'E': 1677189957384, 's': 'BTCUSDT', 't': 2789349893, 'p': '23844.94000000', 'q': '0.00056000', 'b': 19135307337, 'a': 19135307003, 'T': 1677189957384, 'm': False, 'M': True}\n",
      "{'e': 'trade', 'E': 1677189957399, 's': 'BTCUSDT', 't': 2789349894, 'p': '23844.94000000', 'q': '0.00011000', 'b': 19135307341, 'a': 19135307003, 'T': 1677189957399, 'm': False, 'M': True}\n",
      "{'e': 'trade', 'E': 1677189957399, 's': 'BTCUSDT', 't': 2789349895, 'p': '23844.95000000', 'q': '0.07000000', 'b': 19135307341, 'a': 19135307315, 'T': 1677189957399, 'm': False, 'M': True}\n",
      "{'e': 'trade', 'E': 1677189957441, 's': 'BTCUSDT', 't': 2789349896, 'p': '23845.08000000', 'q': '0.00046000', 'b': 19135307351, 'a': 19135306924, 'T': 1677189957440, 'm': False, 'M': True}\n",
      "{'e': 'trade', 'E': 1677189957441, 's': 'BTCUSDT', 't': 2789349897, 'p': '23845.08000000', 'q': '0.00046000', 'b': 19135307351, 'a': 19135306924, 'T': 1677189957440, 'm': False, 'M': True}\n",
      "{'e': 'trade', 'E': 1677189957441, 's': 'BTCUSDT', 't': 2789349898, 'p': '23845.08000000', 'q': '0.00046000', 'b': 19135307351, 'a': 19135306924, 'T': 1677189957440, 'm': False, 'M': True}\n",
      "{'e': 'trade', 'E': 1677189957441, 's': 'BTCUSDT', 't': 2789349899, 'p': '23845.08000000', 'q': '0.00046000', 'b': 19135307351, 'a': 19135306924, 'T': 1677189957440, 'm': False, 'M': True}\n",
      "{'e': 'trade', 'E': 1677189957441, 's': 'BTCUSDT', 't': 2789349900, 'p': '23845.08000000', 'q': '0.00046000', 'b': 19135307351, 'a': 19135306924, 'T': 1677189957440, 'm': False, 'M': True}\n",
      "{'e': 'trade', 'E': 1677189957441, 's': 'BTCUSDT', 't': 2789349901, 'p': '23845.08000000', 'q': '0.00046000', 'b': 19135307351, 'a': 19135306924, 'T': 1677189957440, 'm': False, 'M': True}\n",
      "{'e': 'trade', 'E': 1677189957441, 's': 'BTCUSDT', 't': 2789349902, 'p': '23845.08000000', 'q': '0.00046000', 'b': 19135307351, 'a': 19135306924, 'T': 1677189957440, 'm': False, 'M': True}\n",
      "{'e': 'trade', 'E': 1677189957441, 's': 'BTCUSDT', 't': 2789349903, 'p': '23845.08000000', 'q': '0.00046000', 'b': 19135307351, 'a': 19135306924, 'T': 1677189957440, 'm': False, 'M': True}\n",
      "{'e': 'trade', 'E': 1677189957441, 's': 'BTCUSDT', 't': 2789349904, 'p': '23845.08000000', 'q': '0.00032000', 'b': 19135307351, 'a': 19135306924, 'T': 1677189957440, 'm': False, 'M': True}\n",
      "{'e': 'trade', 'E': 1677189957441, 's': 'BTCUSDT', 't': 2789349905, 'p': '23845.11000000', 'q': '0.00046000', 'b': 19135307351, 'a': 19135306928, 'T': 1677189957440, 'm': False, 'M': True}\n",
      "{'e': 'trade', 'E': 1677189957441, 's': 'BTCUSDT', 't': 2789349906, 'p': '23845.11000000', 'q': '0.00046000', 'b': 19135307351, 'a': 19135306928, 'T': 1677189957440, 'm': False, 'M': True}\n",
      "{'e': 'trade', 'E': 1677189957441, 's': 'BTCUSDT', 't': 2789349907, 'p': '23845.11000000', 'q': '0.00019000', 'b': 19135307351, 'a': 19135306928, 'T': 1677189957440, 'm': False, 'M': True}\n",
      "{'e': 'trade', 'E': 1677189957479, 's': 'BTCUSDT', 't': 2789349908, 'p': '23844.95000000', 'q': '0.07000000', 'b': 19135307373, 'a': 19135307358, 'T': 1677189957478, 'm': False, 'M': True}\n",
      "{'e': 'trade', 'E': 1677189957555, 's': 'BTCUSDT', 't': 2789349909, 'p': '23844.94000000', 'q': '0.00525000', 'b': 19135307380, 'a': 19135307379, 'T': 1677189957554, 'm': False, 'M': True}\n",
      "{'e': 'trade', 'E': 1677189957555, 's': 'BTCUSDT', 't': 2789349910, 'p': '23844.95000000', 'q': '0.00985000', 'b': 19135307380, 'a': 19135307377, 'T': 1677189957554, 'm': False, 'M': True}\n",
      "{'e': 'trade', 'E': 1677189957571, 's': 'BTCUSDT', 't': 2789349911, 'p': '23844.94000000', 'q': '0.00222000', 'b': 19135307393, 'a': 19135307383, 'T': 1677189957571, 'm': False, 'M': True}\n",
      "{'e': 'trade', 'E': 1677189957631, 's': 'BTCUSDT', 't': 2789349912, 'p': '23844.94000000', 'q': '0.00420000', 'b': 19135307417, 'a': 19135307415, 'T': 1677189957630, 'm': False, 'M': True}\n",
      "{'e': 'trade', 'E': 1677189957665, 's': 'BTCUSDT', 't': 2789349913, 'p': '23844.95000000', 'q': '0.05000000', 'b': 19135307422, 'a': 19135307414, 'T': 1677189957665, 'm': False, 'M': True}\n",
      "{'e': 'trade', 'E': 1677189957675, 's': 'BTCUSDT', 't': 2789349914, 'p': '23844.49000000', 'q': '0.10000000', 'b': 19135307432, 'a': 19135307424, 'T': 1677189957675, 'm': False, 'M': True}\n",
      "{'e': 'trade', 'E': 1677189957678, 's': 'BTCUSDT', 't': 2789349915, 'p': '23844.95000000', 'q': '0.02000000', 'b': 19135307438, 'a': 19135307414, 'T': 1677189957678, 'm': False, 'M': True}\n",
      "{'e': 'trade', 'E': 1677189957700, 's': 'BTCUSDT', 't': 2789349916, 'p': '23845.11000000', 'q': '0.00027000', 'b': 19135307451, 'a': 19135306928, 'T': 1677189957699, 'm': False, 'M': True}\n",
      "{'e': 'trade', 'E': 1677189957700, 's': 'BTCUSDT', 't': 2789349917, 'p': '23845.11000000', 'q': '0.00046000', 'b': 19135307451, 'a': 19135306928, 'T': 1677189957699, 'm': False, 'M': True}\n",
      "{'e': 'trade', 'E': 1677189957700, 's': 'BTCUSDT', 't': 2789349918, 'p': '23845.11000000', 'q': '0.00016000', 'b': 19135307451, 'a': 19135306928, 'T': 1677189957699, 'm': False, 'M': True}\n",
      "{'e': 'trade', 'E': 1677189957700, 's': 'BTCUSDT', 't': 2789349919, 'p': '23845.38000000', 'q': '0.00001000', 'b': 19135307451, 'a': 19135306791, 'T': 1677189957699, 'm': False, 'M': True}\n",
      "{'e': 'trade', 'E': 1677189957700, 's': 'BTCUSDT', 't': 2789349920, 'p': '23845.38000000', 'q': '0.00120000', 'b': 19135307451, 'a': 19135307052, 'T': 1677189957699, 'm': False, 'M': True}\n",
      "{'e': 'trade', 'E': 1677189957750, 's': 'BTCUSDT', 't': 2789349921, 'p': '23844.95000000', 'q': '0.07000000', 'b': 19135307462, 'a': 19135307460, 'T': 1677189957750, 'm': False, 'M': True}\n",
      "{'e': 'trade', 'E': 1677189957758, 's': 'BTCUSDT', 't': 2789349922, 'p': '23844.94000000', 'q': '0.00336000', 'b': 19135307464, 'a': 19135307463, 'T': 1677189957758, 'm': False, 'M': True}\n",
      "{'e': 'trade', 'E': 1677189957771, 's': 'BTCUSDT', 't': 2789349923, 'p': '23845.37000000', 'q': '0.00268000', 'b': 19135307477, 'a': 19135307468, 'T': 1677189957771, 'm': False, 'M': True}\n",
      "{'e': 'trade', 'E': 1677189957771, 's': 'BTCUSDT', 't': 2789349924, 'p': '23845.38000000', 'q': '0.00071000', 'b': 19135307477, 'a': 19135307061, 'T': 1677189957771, 'm': False, 'M': True}\n",
      "{'e': 'trade', 'E': 1677189957805, 's': 'BTCUSDT', 't': 2789349925, 'p': '23844.83000000', 'q': '0.00065000', 'b': 19135307457, 'a': 19135307513, 'T': 1677189957805, 'm': True, 'M': True}\n",
      "{'e': 'trade', 'E': 1677189957805, 's': 'BTCUSDT', 't': 2789349926, 'p': '23844.47000000', 'q': '0.01155000', 'b': 19135307408, 'a': 19135307513, 'T': 1677189957805, 'm': True, 'M': True}\n",
      "{'e': 'trade', 'E': 1677189957805, 's': 'BTCUSDT', 't': 2789349927, 'p': '23844.28000000', 'q': '0.00065000', 'b': 19135307345, 'a': 19135307513, 'T': 1677189957805, 'm': True, 'M': True}\n",
      "{'e': 'trade', 'E': 1677189957805, 's': 'BTCUSDT', 't': 2789349928, 'p': '23844.10000000', 'q': '0.04194000', 'b': 19135307492, 'a': 19135307513, 'T': 1677189957805, 'm': True, 'M': True}\n",
      "{'e': 'trade', 'E': 1677189957805, 's': 'BTCUSDT', 't': 2789349929, 'p': '23843.98000000', 'q': '0.00436000', 'b': 19135307481, 'a': 19135307513, 'T': 1677189957805, 'm': True, 'M': True}\n",
      "{'e': 'trade', 'E': 1677189957805, 's': 'BTCUSDT', 't': 2789349930, 'p': '23843.97000000', 'q': '0.06387000', 'b': 19135307423, 'a': 19135307513, 'T': 1677189957805, 'm': True, 'M': True}\n",
      "{'e': 'trade', 'E': 1677189957805, 's': 'BTCUSDT', 't': 2789349931, 'p': '23843.96000000', 'q': '0.00067000', 'b': 19135307346, 'a': 19135307513, 'T': 1677189957805, 'm': True, 'M': True}\n",
      "{'e': 'trade', 'E': 1677189957805, 's': 'BTCUSDT', 't': 2789349932, 'p': '23843.95000000', 'q': '0.02827000', 'b': 19135307412, 'a': 19135307513, 'T': 1677189957805, 'm': True, 'M': True}\n",
      "{'e': 'trade', 'E': 1677189957805, 's': 'BTCUSDT', 't': 2789349933, 'p': '23845.37000000', 'q': '0.00215000', 'b': 19135307514, 'a': 19135307503, 'T': 1677189957805, 'm': False, 'M': True}\n",
      "{'e': 'trade', 'E': 1677189957805, 's': 'BTCUSDT', 't': 2789349934, 'p': '23845.38000000', 'q': '0.02140000', 'b': 19135307514, 'a': 19135307497, 'T': 1677189957805, 'm': False, 'M': True}\n"
     ]
    },
    {
     "name": "stdout",
     "output_type": "stream",
     "text": [
      "{'e': 'trade', 'E': 1677189957825, 's': 'BTCUSDT', 't': 2789349935, 'p': '23844.95000000', 'q': '0.07000000', 'b': 19135307533, 'a': 19135307518, 'T': 1677189957825, 'm': False, 'M': True}\n",
      "{'e': 'trade', 'E': 1677189957887, 's': 'BTCUSDT', 't': 2789349936, 'p': '23844.94000000', 'q': '0.00067000', 'b': 19135307575, 'a': 19135307546, 'T': 1677189957886, 'm': False, 'M': True}\n",
      "{'e': 'trade', 'E': 1677189957889, 's': 'BTCUSDT', 't': 2789349937, 'p': '23844.95000000', 'q': '0.07000000', 'b': 19135307578, 'a': 19135307577, 'T': 1677189957889, 'm': False, 'M': True}\n",
      "{'e': 'trade', 'E': 1677189957889, 's': 'BTCUSDT', 't': 2789349938, 'p': '23845.31000000', 'q': '0.06386000', 'b': 19135307578, 'a': 19135307559, 'T': 1677189957889, 'm': False, 'M': True}\n",
      "{'e': 'trade', 'E': 1677189957889, 's': 'BTCUSDT', 't': 2789349939, 'p': '23845.31000000', 'q': '0.01783000', 'b': 19135307578, 'a': 19135307566, 'T': 1677189957889, 'm': False, 'M': True}\n",
      "{'e': 'trade', 'E': 1677189957889, 's': 'BTCUSDT', 't': 2789349940, 'p': '23845.32000000', 'q': '0.07000000', 'b': 19135307578, 'a': 19135307552, 'T': 1677189957889, 'm': False, 'M': True}\n",
      "{'e': 'trade', 'E': 1677189957889, 's': 'BTCUSDT', 't': 2789349941, 'p': '23845.38000000', 'q': '0.00065000', 'b': 19135307578, 'a': 19135307537, 'T': 1677189957889, 'm': False, 'M': True}\n",
      "{'e': 'trade', 'E': 1677189957889, 's': 'BTCUSDT', 't': 2789349942, 'p': '23845.85000000', 'q': '0.02356000', 'b': 19135307578, 'a': 19135307469, 'T': 1677189957889, 'm': False, 'M': True}\n",
      "{'e': 'trade', 'E': 1677189957889, 's': 'BTCUSDT', 't': 2789349943, 'p': '23845.85000000', 'q': '0.08080000', 'b': 19135307578, 'a': 19135307506, 'T': 1677189957889, 'm': False, 'M': True}\n",
      "{'e': 'trade', 'E': 1677189957889, 's': 'BTCUSDT', 't': 2789349944, 'p': '23845.86000000', 'q': '0.00151000', 'b': 19135307578, 'a': 19135298416, 'T': 1677189957889, 'm': False, 'M': True}\n",
      "{'e': 'trade', 'E': 1677189957889, 's': 'BTCUSDT', 't': 2789349945, 'p': '23845.92000000', 'q': '0.00067000', 'b': 19135307578, 'a': 19135298309, 'T': 1677189957889, 'm': False, 'M': True}\n",
      "{'e': 'trade', 'E': 1677189957889, 's': 'BTCUSDT', 't': 2789349946, 'p': '23845.92000000', 'q': '0.04194000', 'b': 19135307578, 'a': 19135307012, 'T': 1677189957889, 'm': False, 'M': True}\n",
      "{'e': 'trade', 'E': 1677189957889, 's': 'BTCUSDT', 't': 2789349947, 'p': '23845.92000000', 'q': '0.00100000', 'b': 19135307578, 'a': 19135307344, 'T': 1677189957889, 'm': False, 'M': True}\n",
      "{'e': 'trade', 'E': 1677189957889, 's': 'BTCUSDT', 't': 2789349948, 'p': '23845.92000000', 'q': '0.00200000', 'b': 19135307578, 'a': 19135307350, 'T': 1677189957889, 'm': False, 'M': True}\n",
      "{'e': 'trade', 'E': 1677189957889, 's': 'BTCUSDT', 't': 2789349949, 'p': '23845.93000000', 'q': '0.00065000', 'b': 19135307578, 'a': 19135300032, 'T': 1677189957889, 'm': False, 'M': True}\n",
      "{'e': 'trade', 'E': 1677189957889, 's': 'BTCUSDT', 't': 2789349950, 'p': '23845.94000000', 'q': '0.00934000', 'b': 19135307578, 'a': 19135307013, 'T': 1677189957889, 'm': False, 'M': True}\n",
      "{'e': 'trade', 'E': 1677189957897, 's': 'BTCUSDT', 't': 2789349951, 'p': '23844.83000000', 'q': '0.00065000', 'b': 19135307591, 'a': 19135307579, 'T': 1677189957896, 'm': False, 'M': True}\n",
      "{'e': 'trade', 'E': 1677189957902, 's': 'BTCUSDT', 't': 2789349952, 'p': '23845.30000000', 'q': '0.00172000', 'b': 19135307603, 'a': 19135307594, 'T': 1677189957901, 'm': False, 'M': True}\n",
      "{'e': 'trade', 'E': 1677189957912, 's': 'BTCUSDT', 't': 2789349953, 'p': '23845.97000000', 'q': '0.00137000', 'b': 19135307631, 'a': 19135307625, 'T': 1677189957911, 'm': False, 'M': True}\n",
      "{'e': 'trade', 'E': 1677189957912, 's': 'BTCUSDT', 't': 2789349954, 'p': '23845.98000000', 'q': '0.00382000', 'b': 19135307631, 'a': 19135307602, 'T': 1677189957911, 'm': False, 'M': True}\n",
      "{'e': 'trade', 'E': 1677189957913, 's': 'BTCUSDT', 't': 2789349955, 'p': '23845.33000000', 'q': '0.00084000', 'b': 19135307622, 'a': 19135307634, 'T': 1677189957913, 'm': True, 'M': True}\n",
      "{'e': 'trade', 'E': 1677189957913, 's': 'BTCUSDT', 't': 2789349956, 'p': '23845.33000000', 'q': '0.00069000', 'b': 19135307622, 'a': 19135307635, 'T': 1677189957913, 'm': True, 'M': True}\n",
      "{'e': 'trade', 'E': 1677189957958, 's': 'BTCUSDT', 't': 2789349957, 'p': '23845.39000000', 'q': '0.07000000', 'b': 19135307662, 'a': 19135307661, 'T': 1677189957957, 'm': False, 'M': True}\n",
      "{'e': 'trade', 'E': 1677189957958, 's': 'BTCUSDT', 't': 2789349958, 'p': '23845.89000000', 'q': '0.00210000', 'b': 19135307662, 'a': 19135307652, 'T': 1677189957957, 'm': False, 'M': True}\n",
      "{'e': 'trade', 'E': 1677189957958, 's': 'BTCUSDT', 't': 2789349959, 'p': '23846.00000000', 'q': '0.00200000', 'b': 19135307663, 'a': 19135298588, 'T': 1677189957958, 'm': False, 'M': True}\n",
      "{'e': 'trade', 'E': 1677189957958, 's': 'BTCUSDT', 't': 2789349960, 'p': '23846.00000000', 'q': '0.00126000', 'b': 19135307663, 'a': 19135298951, 'T': 1677189957958, 'm': False, 'M': True}\n",
      "{'e': 'trade', 'E': 1677189957958, 's': 'BTCUSDT', 't': 2789349961, 'p': '23846.19000000', 'q': '0.00110000', 'b': 19135307663, 'a': 19135307649, 'T': 1677189957958, 'm': False, 'M': True}\n",
      "{'e': 'trade', 'E': 1677189957958, 's': 'BTCUSDT', 't': 2789349962, 'p': '23846.47000000', 'q': '0.05797000', 'b': 19135307663, 'a': 19135307558, 'T': 1677189957958, 'm': False, 'M': True}\n",
      "{'e': 'trade', 'E': 1677189957958, 's': 'BTCUSDT', 't': 2789349963, 'p': '23846.48000000', 'q': '0.00098000', 'b': 19135307663, 'a': 19135298786, 'T': 1677189957958, 'm': False, 'M': True}\n",
      "{'e': 'trade', 'E': 1677189957958, 's': 'BTCUSDT', 't': 2789349964, 'p': '23846.48000000', 'q': '0.03442000', 'b': 19135307663, 'a': 19135307431, 'T': 1677189957958, 'm': False, 'M': True}\n",
      "{'e': 'trade', 'E': 1677189957958, 's': 'BTCUSDT', 't': 2789349965, 'p': '23846.49000000', 'q': '0.03902000', 'b': 19135307663, 'a': 19135307391, 'T': 1677189957958, 'm': False, 'M': True}\n",
      "{'e': 'trade', 'E': 1677189957958, 's': 'BTCUSDT', 't': 2789349966, 'p': '23846.50000000', 'q': '0.00511000', 'b': 19135307663, 'a': 19135307440, 'T': 1677189957958, 'm': False, 'M': True}\n",
      "{'e': 'trade', 'E': 1677189957958, 's': 'BTCUSDT', 't': 2789349967, 'p': '23846.56000000', 'q': '0.00221000', 'b': 19135307663, 'a': 19135307104, 'T': 1677189957958, 'm': False, 'M': True}\n",
      "{'e': 'trade', 'E': 1677189957958, 's': 'BTCUSDT', 't': 2789349968, 'p': '23846.57000000', 'q': '0.43495000', 'b': 19135307663, 'a': 19135307388, 'T': 1677189957958, 'm': False, 'M': True}\n",
      "{'e': 'trade', 'E': 1677189957971, 's': 'BTCUSDT', 't': 2789349969, 'p': '23846.71000000', 'q': '0.00088000', 'b': 19135307713, 'a': 19135307687, 'T': 1677189957971, 'm': False, 'M': True}\n",
      "{'e': 'trade', 'E': 1677189957971, 's': 'BTCUSDT', 't': 2789349970, 'p': '23846.71000000', 'q': '0.04106000', 'b': 19135307713, 'a': 19135307703, 'T': 1677189957971, 'm': False, 'M': True}\n",
      "{'e': 'trade', 'E': 1677189957976, 's': 'BTCUSDT', 't': 2789349971, 'p': '23846.20000000', 'q': '0.00382000', 'b': 19135307723, 'a': 19135307739, 'T': 1677189957975, 'm': True, 'M': True}\n",
      "{'e': 'trade', 'E': 1677189957976, 's': 'BTCUSDT', 't': 2789349972, 'p': '23846.20000000', 'q': '0.01715000', 'b': 19135307723, 'a': 19135307744, 'T': 1677189957976, 'm': True, 'M': True}\n",
      "{'e': 'trade', 'E': 1677189957976, 's': 'BTCUSDT', 't': 2789349973, 'p': '23845.99000000', 'q': '0.00382000', 'b': 19135307672, 'a': 19135307744, 'T': 1677189957976, 'm': True, 'M': True}\n",
      "{'e': 'trade', 'E': 1677189957976, 's': 'BTCUSDT', 't': 2789349974, 'p': '23845.50000000', 'q': '0.09352000', 'b': 19135307708, 'a': 19135307744, 'T': 1677189957976, 'm': True, 'M': True}\n",
      "{'e': 'trade', 'E': 1677189958036, 's': 'BTCUSDT', 't': 2789349975, 'p': '23846.65000000', 'q': '0.00066000', 'b': 19135307826, 'a': 19135307824, 'T': 1677189958036, 'm': False, 'M': True}\n",
      "{'e': 'trade', 'E': 1677189958382, 's': 'BTCUSDT', 't': 2789349976, 'p': '23846.24000000', 'q': '0.00210000', 'b': 19135307977, 'a': 19135307911, 'T': 1677189958382, 'm': False, 'M': True}\n",
      "{'e': 'trade', 'E': 1677189958426, 's': 'BTCUSDT', 't': 2789349977, 'p': '23845.62000000', 'q': '0.00776000', 'b': 19135308003, 'a': 19135308005, 'T': 1677189958426, 'm': True, 'M': True}\n",
      "{'e': 'trade', 'E': 1677189958471, 's': 'BTCUSDT', 't': 2789349978, 'p': '23846.24000000', 'q': '0.00309000', 'b': 19135308033, 'a': 19135307911, 'T': 1677189958471, 'm': False, 'M': True}\n"
     ]
    },
    {
     "name": "stdout",
     "output_type": "stream",
     "text": [
      "{'e': 'trade', 'E': 1677189958646, 's': 'BTCUSDT', 't': 2789349979, 'p': '23845.95000000', 'q': '0.00776000', 'b': 19135308129, 'a': 19135308133, 'T': 1677189958646, 'm': True, 'M': True}\n",
      "{'e': 'trade', 'E': 1677189958646, 's': 'BTCUSDT', 't': 2789349980, 'p': '23845.95000000', 'q': '0.06215000', 'b': 19135308132, 'a': 19135308133, 'T': 1677189958646, 'm': True, 'M': True}\n",
      "{'e': 'trade', 'E': 1677189958675, 's': 'BTCUSDT', 't': 2789349981, 'p': '23846.70000000', 'q': '0.00212000', 'b': 19135308153, 'a': 19135308147, 'T': 1677189958674, 'm': False, 'M': True}\n",
      "{'e': 'trade', 'E': 1677189958675, 's': 'BTCUSDT', 't': 2789349982, 'p': '23846.71000000', 'q': '0.03762000', 'b': 19135308153, 'a': 19135307703, 'T': 1677189958674, 'm': False, 'M': True}\n",
      "{'e': 'trade', 'E': 1677189958812, 's': 'BTCUSDT', 't': 2789349983, 'p': '23846.72000000', 'q': '0.00516000', 'b': 19135308218, 'a': 19135307653, 'T': 1677189958812, 'm': False, 'M': True}\n",
      "{'e': 'trade', 'E': 1677189958812, 's': 'BTCUSDT', 't': 2789349983, 'p': '23846.72000000', 'q': '0.00516000', 'b': 19135308218, 'a': 19135307653, 'T': 1677189958812, 'm': False, 'M': True}\n",
      "{'e': 'trade', 'E': 1677189959006, 's': 'BTCUSDT', 't': 2789349984, 'p': '23846.48000000', 'q': '0.00065000', 'b': 19135308274, 'a': 19135308251, 'T': 1677189959006, 'm': False, 'M': True}\n",
      "{'e': 'trade', 'E': 1677189959070, 's': 'BTCUSDT', 't': 2789349985, 'p': '23846.82000000', 'q': '0.00043000', 'b': 19135308299, 'a': 19135307938, 'T': 1677189959069, 'm': False, 'M': True}\n",
      "{'e': 'trade', 'E': 1677189959081, 's': 'BTCUSDT', 't': 2789349986, 'p': '23846.65000000', 'q': '0.02935000', 'b': 19135308274, 'a': 19135308315, 'T': 1677189959081, 'm': True, 'M': True}\n",
      "{'e': 'trade', 'E': 1677189959081, 's': 'BTCUSDT', 't': 2789349987, 'p': '23846.65000000', 'q': '0.03000000', 'b': 19135308276, 'a': 19135308315, 'T': 1677189959081, 'm': True, 'M': True}\n",
      "{'e': 'trade', 'E': 1677189959171, 's': 'BTCUSDT', 't': 2789349988, 'p': '23846.52000000', 'q': '0.00393000', 'b': 19135308345, 'a': 19135308328, 'T': 1677189959170, 'm': False, 'M': True}\n",
      "{'e': 'trade', 'E': 1677189959202, 's': 'BTCUSDT', 't': 2789349989, 'p': '23846.98000000', 'q': '0.00117000', 'b': 19135308362, 'a': 19135308318, 'T': 1677189959202, 'm': False, 'M': True}\n",
      "{'e': 'trade', 'E': 1677189959415, 's': 'BTCUSDT', 't': 2789349990, 'p': '23845.97000000', 'q': '0.05539000', 'b': 19135308365, 'a': 19135308413, 'T': 1677189959414, 'm': True, 'M': True}\n",
      "{'e': 'trade', 'E': 1677189959418, 's': 'BTCUSDT', 't': 2789349991, 'p': '23845.97000000', 'q': '0.00209000', 'b': 19135308365, 'a': 19135308415, 'T': 1677189959418, 'm': True, 'M': True}\n"
     ]
    },
    {
     "ename": "KeyError",
     "evalue": "\"None of [Index(['s', 'E', 'p'], dtype='object')] are in the [columns]\"",
     "output_type": "error",
     "traceback": [
      "\u001b[1;31m---------------------------------------------------------------------------\u001b[0m",
      "\u001b[1;31mKeyError\u001b[0m                                  Traceback (most recent call last)",
      "\u001b[1;32m<ipython-input-7-047e1e7030d1>\u001b[0m in \u001b[0;36masync-def-wrapper\u001b[1;34m()\u001b[0m\n\u001b[0;32m     11\u001b[0m     \u001b[0mframe\u001b[0m\u001b[1;33m.\u001b[0m\u001b[0mto_sql\u001b[0m\u001b[1;33m(\u001b[0m\u001b[1;34m'BTCUSDT'\u001b[0m\u001b[1;33m,\u001b[0m \u001b[0mengine\u001b[0m\u001b[1;33m,\u001b[0m \u001b[0mif_exists\u001b[0m \u001b[1;33m=\u001b[0m \u001b[1;34m'append'\u001b[0m\u001b[1;33m,\u001b[0m \u001b[0mindex\u001b[0m \u001b[1;33m=\u001b[0m \u001b[1;32mFalse\u001b[0m\u001b[1;33m)\u001b[0m\u001b[1;33m\u001b[0m\u001b[1;33m\u001b[0m\u001b[0m\n\u001b[0;32m     12\u001b[0m     \u001b[0mprint\u001b[0m\u001b[1;33m(\u001b[0m\u001b[0mmsg\u001b[0m\u001b[1;33m)\u001b[0m\u001b[1;33m\u001b[0m\u001b[1;33m\u001b[0m\u001b[0m\n\u001b[1;32m---> 13\u001b[1;33m \u001b[1;33m\u001b[0m\u001b[0m\n\u001b[0m\u001b[0;32m     14\u001b[0m \u001b[1;33m\u001b[0m\u001b[0m\n\u001b[0;32m     15\u001b[0m \u001b[1;31m# exit the context manager\u001b[0m\u001b[1;33m\u001b[0m\u001b[1;33m\u001b[0m\u001b[1;33m\u001b[0m\u001b[0m\n",
      "\u001b[1;32m<ipython-input-5-590b50dd12ae>\u001b[0m in \u001b[0;36mcreateframe\u001b[1;34m(msg)\u001b[0m\n\u001b[0;32m      2\u001b[0m \u001b[1;32mdef\u001b[0m \u001b[0mcreateframe\u001b[0m\u001b[1;33m(\u001b[0m\u001b[0mmsg\u001b[0m\u001b[1;33m)\u001b[0m\u001b[1;33m:\u001b[0m\u001b[1;33m\u001b[0m\u001b[1;33m\u001b[0m\u001b[0m\n\u001b[0;32m      3\u001b[0m     \u001b[0mdf\u001b[0m \u001b[1;33m=\u001b[0m \u001b[0mpd\u001b[0m\u001b[1;33m.\u001b[0m\u001b[0mDataFrame\u001b[0m\u001b[1;33m(\u001b[0m\u001b[1;33m[\u001b[0m\u001b[0mmsg\u001b[0m\u001b[1;33m]\u001b[0m\u001b[1;33m)\u001b[0m\u001b[1;33m\u001b[0m\u001b[1;33m\u001b[0m\u001b[0m\n\u001b[1;32m----> 4\u001b[1;33m     \u001b[0mdf\u001b[0m \u001b[1;33m=\u001b[0m \u001b[0mdf\u001b[0m\u001b[1;33m.\u001b[0m\u001b[0mloc\u001b[0m\u001b[1;33m[\u001b[0m\u001b[1;33m:\u001b[0m\u001b[1;33m,\u001b[0m\u001b[1;33m[\u001b[0m\u001b[1;34m's'\u001b[0m\u001b[1;33m,\u001b[0m\u001b[1;34m'E'\u001b[0m\u001b[1;33m,\u001b[0m\u001b[1;34m'p'\u001b[0m\u001b[1;33m]\u001b[0m\u001b[1;33m]\u001b[0m\u001b[1;33m\u001b[0m\u001b[1;33m\u001b[0m\u001b[0m\n\u001b[0m\u001b[0;32m      5\u001b[0m     \u001b[0mdf\u001b[0m\u001b[1;33m.\u001b[0m\u001b[0mcolumns\u001b[0m \u001b[1;33m=\u001b[0m \u001b[1;33m[\u001b[0m\u001b[1;34m'symbol'\u001b[0m\u001b[1;33m,\u001b[0m\u001b[1;34m'Time'\u001b[0m\u001b[1;33m,\u001b[0m\u001b[1;34m'Price'\u001b[0m\u001b[1;33m]\u001b[0m\u001b[1;33m\u001b[0m\u001b[1;33m\u001b[0m\u001b[0m\n\u001b[0;32m      6\u001b[0m     \u001b[0mdf\u001b[0m\u001b[1;33m.\u001b[0m\u001b[0mPrice\u001b[0m \u001b[1;33m=\u001b[0m \u001b[0mdf\u001b[0m\u001b[1;33m.\u001b[0m\u001b[0mPrice\u001b[0m\u001b[1;33m.\u001b[0m\u001b[0mastype\u001b[0m\u001b[1;33m(\u001b[0m\u001b[0mfloat\u001b[0m \u001b[1;33m)\u001b[0m\u001b[1;33m\u001b[0m\u001b[1;33m\u001b[0m\u001b[0m\n",
      "\u001b[1;32m~\\Anaconda3\\lib\\site-packages\\pandas\\core\\indexing.py\u001b[0m in \u001b[0;36m__getitem__\u001b[1;34m(self, key)\u001b[0m\n\u001b[0;32m    923\u001b[0m                 \u001b[1;32mwith\u001b[0m \u001b[0msuppress\u001b[0m\u001b[1;33m(\u001b[0m\u001b[0mKeyError\u001b[0m\u001b[1;33m,\u001b[0m \u001b[0mIndexError\u001b[0m\u001b[1;33m)\u001b[0m\u001b[1;33m:\u001b[0m\u001b[1;33m\u001b[0m\u001b[1;33m\u001b[0m\u001b[0m\n\u001b[0;32m    924\u001b[0m                     \u001b[1;32mreturn\u001b[0m \u001b[0mself\u001b[0m\u001b[1;33m.\u001b[0m\u001b[0mobj\u001b[0m\u001b[1;33m.\u001b[0m\u001b[0m_get_value\u001b[0m\u001b[1;33m(\u001b[0m\u001b[1;33m*\u001b[0m\u001b[0mkey\u001b[0m\u001b[1;33m,\u001b[0m \u001b[0mtakeable\u001b[0m\u001b[1;33m=\u001b[0m\u001b[0mself\u001b[0m\u001b[1;33m.\u001b[0m\u001b[0m_takeable\u001b[0m\u001b[1;33m)\u001b[0m\u001b[1;33m\u001b[0m\u001b[1;33m\u001b[0m\u001b[0m\n\u001b[1;32m--> 925\u001b[1;33m             \u001b[1;32mreturn\u001b[0m \u001b[0mself\u001b[0m\u001b[1;33m.\u001b[0m\u001b[0m_getitem_tuple\u001b[0m\u001b[1;33m(\u001b[0m\u001b[0mkey\u001b[0m\u001b[1;33m)\u001b[0m\u001b[1;33m\u001b[0m\u001b[1;33m\u001b[0m\u001b[0m\n\u001b[0m\u001b[0;32m    926\u001b[0m         \u001b[1;32melse\u001b[0m\u001b[1;33m:\u001b[0m\u001b[1;33m\u001b[0m\u001b[1;33m\u001b[0m\u001b[0m\n\u001b[0;32m    927\u001b[0m             \u001b[1;31m# we by definition only have the 0th axis\u001b[0m\u001b[1;33m\u001b[0m\u001b[1;33m\u001b[0m\u001b[1;33m\u001b[0m\u001b[0m\n",
      "\u001b[1;32m~\\Anaconda3\\lib\\site-packages\\pandas\\core\\indexing.py\u001b[0m in \u001b[0;36m_getitem_tuple\u001b[1;34m(self, tup)\u001b[0m\n\u001b[0;32m   1107\u001b[0m             \u001b[1;32mreturn\u001b[0m \u001b[0mself\u001b[0m\u001b[1;33m.\u001b[0m\u001b[0m_multi_take\u001b[0m\u001b[1;33m(\u001b[0m\u001b[0mtup\u001b[0m\u001b[1;33m)\u001b[0m\u001b[1;33m\u001b[0m\u001b[1;33m\u001b[0m\u001b[0m\n\u001b[0;32m   1108\u001b[0m \u001b[1;33m\u001b[0m\u001b[0m\n\u001b[1;32m-> 1109\u001b[1;33m         \u001b[1;32mreturn\u001b[0m \u001b[0mself\u001b[0m\u001b[1;33m.\u001b[0m\u001b[0m_getitem_tuple_same_dim\u001b[0m\u001b[1;33m(\u001b[0m\u001b[0mtup\u001b[0m\u001b[1;33m)\u001b[0m\u001b[1;33m\u001b[0m\u001b[1;33m\u001b[0m\u001b[0m\n\u001b[0m\u001b[0;32m   1110\u001b[0m \u001b[1;33m\u001b[0m\u001b[0m\n\u001b[0;32m   1111\u001b[0m     \u001b[1;32mdef\u001b[0m \u001b[0m_get_label\u001b[0m\u001b[1;33m(\u001b[0m\u001b[0mself\u001b[0m\u001b[1;33m,\u001b[0m \u001b[0mlabel\u001b[0m\u001b[1;33m,\u001b[0m \u001b[0maxis\u001b[0m\u001b[1;33m:\u001b[0m \u001b[0mint\u001b[0m\u001b[1;33m)\u001b[0m\u001b[1;33m:\u001b[0m\u001b[1;33m\u001b[0m\u001b[1;33m\u001b[0m\u001b[0m\n",
      "\u001b[1;32m~\\Anaconda3\\lib\\site-packages\\pandas\\core\\indexing.py\u001b[0m in \u001b[0;36m_getitem_tuple_same_dim\u001b[1;34m(self, tup)\u001b[0m\n\u001b[0;32m    804\u001b[0m                 \u001b[1;32mcontinue\u001b[0m\u001b[1;33m\u001b[0m\u001b[1;33m\u001b[0m\u001b[0m\n\u001b[0;32m    805\u001b[0m \u001b[1;33m\u001b[0m\u001b[0m\n\u001b[1;32m--> 806\u001b[1;33m             \u001b[0mretval\u001b[0m \u001b[1;33m=\u001b[0m \u001b[0mgetattr\u001b[0m\u001b[1;33m(\u001b[0m\u001b[0mretval\u001b[0m\u001b[1;33m,\u001b[0m \u001b[0mself\u001b[0m\u001b[1;33m.\u001b[0m\u001b[0mname\u001b[0m\u001b[1;33m)\u001b[0m\u001b[1;33m.\u001b[0m\u001b[0m_getitem_axis\u001b[0m\u001b[1;33m(\u001b[0m\u001b[0mkey\u001b[0m\u001b[1;33m,\u001b[0m \u001b[0maxis\u001b[0m\u001b[1;33m=\u001b[0m\u001b[0mi\u001b[0m\u001b[1;33m)\u001b[0m\u001b[1;33m\u001b[0m\u001b[1;33m\u001b[0m\u001b[0m\n\u001b[0m\u001b[0;32m    807\u001b[0m             \u001b[1;31m# We should never have retval.ndim < self.ndim, as that should\u001b[0m\u001b[1;33m\u001b[0m\u001b[1;33m\u001b[0m\u001b[1;33m\u001b[0m\u001b[0m\n\u001b[0;32m    808\u001b[0m             \u001b[1;31m#  be handled by the _getitem_lowerdim call above.\u001b[0m\u001b[1;33m\u001b[0m\u001b[1;33m\u001b[0m\u001b[1;33m\u001b[0m\u001b[0m\n",
      "\u001b[1;32m~\\Anaconda3\\lib\\site-packages\\pandas\\core\\indexing.py\u001b[0m in \u001b[0;36m_getitem_axis\u001b[1;34m(self, key, axis)\u001b[0m\n\u001b[0;32m   1151\u001b[0m                     \u001b[1;32mraise\u001b[0m \u001b[0mValueError\u001b[0m\u001b[1;33m(\u001b[0m\u001b[1;34m\"Cannot index with multidimensional key\"\u001b[0m\u001b[1;33m)\u001b[0m\u001b[1;33m\u001b[0m\u001b[1;33m\u001b[0m\u001b[0m\n\u001b[0;32m   1152\u001b[0m \u001b[1;33m\u001b[0m\u001b[0m\n\u001b[1;32m-> 1153\u001b[1;33m                 \u001b[1;32mreturn\u001b[0m \u001b[0mself\u001b[0m\u001b[1;33m.\u001b[0m\u001b[0m_getitem_iterable\u001b[0m\u001b[1;33m(\u001b[0m\u001b[0mkey\u001b[0m\u001b[1;33m,\u001b[0m \u001b[0maxis\u001b[0m\u001b[1;33m=\u001b[0m\u001b[0maxis\u001b[0m\u001b[1;33m)\u001b[0m\u001b[1;33m\u001b[0m\u001b[1;33m\u001b[0m\u001b[0m\n\u001b[0m\u001b[0;32m   1154\u001b[0m \u001b[1;33m\u001b[0m\u001b[0m\n\u001b[0;32m   1155\u001b[0m             \u001b[1;31m# nested tuple slicing\u001b[0m\u001b[1;33m\u001b[0m\u001b[1;33m\u001b[0m\u001b[1;33m\u001b[0m\u001b[0m\n",
      "\u001b[1;32m~\\Anaconda3\\lib\\site-packages\\pandas\\core\\indexing.py\u001b[0m in \u001b[0;36m_getitem_iterable\u001b[1;34m(self, key, axis)\u001b[0m\n\u001b[0;32m   1091\u001b[0m \u001b[1;33m\u001b[0m\u001b[0m\n\u001b[0;32m   1092\u001b[0m         \u001b[1;31m# A collection of keys\u001b[0m\u001b[1;33m\u001b[0m\u001b[1;33m\u001b[0m\u001b[1;33m\u001b[0m\u001b[0m\n\u001b[1;32m-> 1093\u001b[1;33m         \u001b[0mkeyarr\u001b[0m\u001b[1;33m,\u001b[0m \u001b[0mindexer\u001b[0m \u001b[1;33m=\u001b[0m \u001b[0mself\u001b[0m\u001b[1;33m.\u001b[0m\u001b[0m_get_listlike_indexer\u001b[0m\u001b[1;33m(\u001b[0m\u001b[0mkey\u001b[0m\u001b[1;33m,\u001b[0m \u001b[0maxis\u001b[0m\u001b[1;33m)\u001b[0m\u001b[1;33m\u001b[0m\u001b[1;33m\u001b[0m\u001b[0m\n\u001b[0m\u001b[0;32m   1094\u001b[0m         return self.obj._reindex_with_indexers(\n\u001b[0;32m   1095\u001b[0m             \u001b[1;33m{\u001b[0m\u001b[0maxis\u001b[0m\u001b[1;33m:\u001b[0m \u001b[1;33m[\u001b[0m\u001b[0mkeyarr\u001b[0m\u001b[1;33m,\u001b[0m \u001b[0mindexer\u001b[0m\u001b[1;33m]\u001b[0m\u001b[1;33m}\u001b[0m\u001b[1;33m,\u001b[0m \u001b[0mcopy\u001b[0m\u001b[1;33m=\u001b[0m\u001b[1;32mTrue\u001b[0m\u001b[1;33m,\u001b[0m \u001b[0mallow_dups\u001b[0m\u001b[1;33m=\u001b[0m\u001b[1;32mTrue\u001b[0m\u001b[1;33m\u001b[0m\u001b[1;33m\u001b[0m\u001b[0m\n",
      "\u001b[1;32m~\\Anaconda3\\lib\\site-packages\\pandas\\core\\indexing.py\u001b[0m in \u001b[0;36m_get_listlike_indexer\u001b[1;34m(self, key, axis)\u001b[0m\n\u001b[0;32m   1312\u001b[0m             \u001b[0mkeyarr\u001b[0m\u001b[1;33m,\u001b[0m \u001b[0mindexer\u001b[0m\u001b[1;33m,\u001b[0m \u001b[0mnew_indexer\u001b[0m \u001b[1;33m=\u001b[0m \u001b[0max\u001b[0m\u001b[1;33m.\u001b[0m\u001b[0m_reindex_non_unique\u001b[0m\u001b[1;33m(\u001b[0m\u001b[0mkeyarr\u001b[0m\u001b[1;33m)\u001b[0m\u001b[1;33m\u001b[0m\u001b[1;33m\u001b[0m\u001b[0m\n\u001b[0;32m   1313\u001b[0m \u001b[1;33m\u001b[0m\u001b[0m\n\u001b[1;32m-> 1314\u001b[1;33m         \u001b[0mself\u001b[0m\u001b[1;33m.\u001b[0m\u001b[0m_validate_read_indexer\u001b[0m\u001b[1;33m(\u001b[0m\u001b[0mkeyarr\u001b[0m\u001b[1;33m,\u001b[0m \u001b[0mindexer\u001b[0m\u001b[1;33m,\u001b[0m \u001b[0maxis\u001b[0m\u001b[1;33m)\u001b[0m\u001b[1;33m\u001b[0m\u001b[1;33m\u001b[0m\u001b[0m\n\u001b[0m\u001b[0;32m   1315\u001b[0m \u001b[1;33m\u001b[0m\u001b[0m\n\u001b[0;32m   1316\u001b[0m         if needs_i8_conversion(ax.dtype) or isinstance(\n",
      "\u001b[1;32m~\\Anaconda3\\lib\\site-packages\\pandas\\core\\indexing.py\u001b[0m in \u001b[0;36m_validate_read_indexer\u001b[1;34m(self, key, indexer, axis)\u001b[0m\n\u001b[0;32m   1372\u001b[0m                 \u001b[1;32mif\u001b[0m \u001b[0muse_interval_msg\u001b[0m\u001b[1;33m:\u001b[0m\u001b[1;33m\u001b[0m\u001b[1;33m\u001b[0m\u001b[0m\n\u001b[0;32m   1373\u001b[0m                     \u001b[0mkey\u001b[0m \u001b[1;33m=\u001b[0m \u001b[0mlist\u001b[0m\u001b[1;33m(\u001b[0m\u001b[0mkey\u001b[0m\u001b[1;33m)\u001b[0m\u001b[1;33m\u001b[0m\u001b[1;33m\u001b[0m\u001b[0m\n\u001b[1;32m-> 1374\u001b[1;33m                 \u001b[1;32mraise\u001b[0m \u001b[0mKeyError\u001b[0m\u001b[1;33m(\u001b[0m\u001b[1;34mf\"None of [{key}] are in the [{axis_name}]\"\u001b[0m\u001b[1;33m)\u001b[0m\u001b[1;33m\u001b[0m\u001b[1;33m\u001b[0m\u001b[0m\n\u001b[0m\u001b[0;32m   1375\u001b[0m \u001b[1;33m\u001b[0m\u001b[0m\n\u001b[0;32m   1376\u001b[0m             \u001b[0mnot_found\u001b[0m \u001b[1;33m=\u001b[0m \u001b[0mlist\u001b[0m\u001b[1;33m(\u001b[0m\u001b[0mensure_index\u001b[0m\u001b[1;33m(\u001b[0m\u001b[0mkey\u001b[0m\u001b[1;33m)\u001b[0m\u001b[1;33m[\u001b[0m\u001b[0mmissing_mask\u001b[0m\u001b[1;33m.\u001b[0m\u001b[0mnonzero\u001b[0m\u001b[1;33m(\u001b[0m\u001b[1;33m)\u001b[0m\u001b[1;33m[\u001b[0m\u001b[1;36m0\u001b[0m\u001b[1;33m]\u001b[0m\u001b[1;33m]\u001b[0m\u001b[1;33m.\u001b[0m\u001b[0munique\u001b[0m\u001b[1;33m(\u001b[0m\u001b[1;33m)\u001b[0m\u001b[1;33m)\u001b[0m\u001b[1;33m\u001b[0m\u001b[1;33m\u001b[0m\u001b[0m\n",
      "\u001b[1;31mKeyError\u001b[0m: \"None of [Index(['s', 'E', 'p'], dtype='object')] are in the [columns]\""
     ]
    }
   ],
   "source": [
    "# We use the manual way from binance documentation to implement  a websocket\n",
    "# https://python-binance.readthedocs.io/en/latest/websockets.html \n",
    "ts = bsm.trade_socket('BTCUSDT')\n",
    "# enter the context manager\n",
    "\n",
    "while True:\n",
    "    await ts.__aenter__()\n",
    "    # receive a message\n",
    "    msg = await ts.recv()\n",
    "    frame = createframe(msg)\n",
    "    frame.to_sql('BTCUSDT', engine, if_exists = 'append', index = False)\n",
    "    print(msg)\n",
    "\n",
    "\n",
    "# exit the context manager\n",
    "#await ts.__aexit__(None, None, None)"
   ]
  },
  {
   "cell_type": "code",
   "execution_count": null,
   "metadata": {},
   "outputs": [],
   "source": []
  },
  {
   "cell_type": "code",
   "execution_count": null,
   "metadata": {},
   "outputs": [],
   "source": []
  }
 ],
 "metadata": {
  "accelerator": "GPU",
  "colab": {
   "private_outputs": true,
   "provenance": []
  },
  "gpuClass": "standard",
  "kernelspec": {
   "display_name": "Python 3",
   "language": "python",
   "name": "python3"
  },
  "language_info": {
   "codemirror_mode": {
    "name": "ipython",
    "version": 3
   },
   "file_extension": ".py",
   "mimetype": "text/x-python",
   "name": "python",
   "nbconvert_exporter": "python",
   "pygments_lexer": "ipython3",
   "version": "3.7.6"
  }
 },
 "nbformat": 4,
 "nbformat_minor": 1
}
