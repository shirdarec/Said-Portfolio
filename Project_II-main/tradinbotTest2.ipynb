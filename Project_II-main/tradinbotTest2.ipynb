{
 "cells": [
  {
   "cell_type": "code",
   "execution_count": 1,
   "metadata": {},
   "outputs": [],
   "source": [
    "import pandas as pd\n",
    "import sqlalchemy\n",
    "from binance.client import Client\n"
   ]
  },
  {
   "cell_type": "code",
   "execution_count": 2,
   "metadata": {},
   "outputs": [],
   "source": [
    "#For privacy purposes \n",
    "%run ./Binance_keys.ipynb\n",
    "client = Client(api_key,api_secret)"
   ]
  },
  {
   "cell_type": "code",
   "execution_count": 3,
   "metadata": {},
   "outputs": [],
   "source": [
    "engine = sqlalchemy.create_engine('sqlite:///BTCUSDTstream.db')"
   ]
  },
  {
   "cell_type": "code",
   "execution_count": 4,
   "metadata": {},
   "outputs": [],
   "source": [
    "df = pd.read_sql('BTCUSDT', engine)"
   ]
  },
  {
   "cell_type": "code",
   "execution_count": 5,
   "metadata": {},
   "outputs": [
    {
     "data": {
      "text/html": [
       "<div>\n",
       "<style scoped>\n",
       "    .dataframe tbody tr th:only-of-type {\n",
       "        vertical-align: middle;\n",
       "    }\n",
       "\n",
       "    .dataframe tbody tr th {\n",
       "        vertical-align: top;\n",
       "    }\n",
       "\n",
       "    .dataframe thead th {\n",
       "        text-align: right;\n",
       "    }\n",
       "</style>\n",
       "<table border=\"1\" class=\"dataframe\">\n",
       "  <thead>\n",
       "    <tr style=\"text-align: right;\">\n",
       "      <th></th>\n",
       "      <th>symbol</th>\n",
       "      <th>Time</th>\n",
       "      <th>Price</th>\n",
       "    </tr>\n",
       "  </thead>\n",
       "  <tbody>\n",
       "    <tr>\n",
       "      <th>0</th>\n",
       "      <td>BTCUSDT</td>\n",
       "      <td>2023-02-23 10:33:05.529</td>\n",
       "      <td>24303.64</td>\n",
       "    </tr>\n",
       "    <tr>\n",
       "      <th>1</th>\n",
       "      <td>BTCUSDT</td>\n",
       "      <td>2023-02-23 10:33:05.529</td>\n",
       "      <td>24303.64</td>\n",
       "    </tr>\n",
       "    <tr>\n",
       "      <th>2</th>\n",
       "      <td>BTCUSDT</td>\n",
       "      <td>2023-02-23 10:33:05.529</td>\n",
       "      <td>24303.64</td>\n",
       "    </tr>\n",
       "    <tr>\n",
       "      <th>3</th>\n",
       "      <td>BTCUSDT</td>\n",
       "      <td>2023-02-23 10:33:05.540</td>\n",
       "      <td>24303.64</td>\n",
       "    </tr>\n",
       "    <tr>\n",
       "      <th>4</th>\n",
       "      <td>BTCUSDT</td>\n",
       "      <td>2023-02-23 10:33:05.540</td>\n",
       "      <td>24303.62</td>\n",
       "    </tr>\n",
       "    <tr>\n",
       "      <th>...</th>\n",
       "      <td>...</td>\n",
       "      <td>...</td>\n",
       "      <td>...</td>\n",
       "    </tr>\n",
       "    <tr>\n",
       "      <th>502</th>\n",
       "      <td>BTCUSDT</td>\n",
       "      <td>2023-02-23 13:59:43.220</td>\n",
       "      <td>24019.73</td>\n",
       "    </tr>\n",
       "    <tr>\n",
       "      <th>503</th>\n",
       "      <td>BTCUSDT</td>\n",
       "      <td>2023-02-23 13:59:43.220</td>\n",
       "      <td>24019.76</td>\n",
       "    </tr>\n",
       "    <tr>\n",
       "      <th>504</th>\n",
       "      <td>BTCUSDT</td>\n",
       "      <td>2023-02-23 13:59:43.220</td>\n",
       "      <td>24019.92</td>\n",
       "    </tr>\n",
       "    <tr>\n",
       "      <th>505</th>\n",
       "      <td>BTCUSDT</td>\n",
       "      <td>2023-02-23 13:59:43.231</td>\n",
       "      <td>24019.91</td>\n",
       "    </tr>\n",
       "    <tr>\n",
       "      <th>506</th>\n",
       "      <td>BTCUSDT</td>\n",
       "      <td>2023-02-23 22:05:57.266</td>\n",
       "      <td>23844.83</td>\n",
       "    </tr>\n",
       "  </tbody>\n",
       "</table>\n",
       "<p>507 rows × 3 columns</p>\n",
       "</div>"
      ],
      "text/plain": [
       "      symbol                    Time     Price\n",
       "0    BTCUSDT 2023-02-23 10:33:05.529  24303.64\n",
       "1    BTCUSDT 2023-02-23 10:33:05.529  24303.64\n",
       "2    BTCUSDT 2023-02-23 10:33:05.529  24303.64\n",
       "3    BTCUSDT 2023-02-23 10:33:05.540  24303.64\n",
       "4    BTCUSDT 2023-02-23 10:33:05.540  24303.62\n",
       "..       ...                     ...       ...\n",
       "502  BTCUSDT 2023-02-23 13:59:43.220  24019.73\n",
       "503  BTCUSDT 2023-02-23 13:59:43.220  24019.76\n",
       "504  BTCUSDT 2023-02-23 13:59:43.220  24019.92\n",
       "505  BTCUSDT 2023-02-23 13:59:43.231  24019.91\n",
       "506  BTCUSDT 2023-02-23 22:05:57.266  23844.83\n",
       "\n",
       "[507 rows x 3 columns]"
      ]
     },
     "execution_count": 5,
     "metadata": {},
     "output_type": "execute_result"
    }
   ],
   "source": [
    "df\n",
    "#Live granular data printed "
   ]
  },
  {
   "cell_type": "code",
   "execution_count": 6,
   "metadata": {},
   "outputs": [
    {
     "data": {
      "text/plain": [
       "<matplotlib.axes._subplots.AxesSubplot at 0x1fad6fd1988>"
      ]
     },
     "execution_count": 6,
     "metadata": {},
     "output_type": "execute_result"
    },
    {
     "data": {
      "image/png": "[encoded data removed]",
      "text/plain": [
       "<Figure size 432x288 with 1 Axes>"
      ]
     },
     "metadata": {
      "needs_background": "light"
     },
     "output_type": "display_data"
    }
   ],
   "source": [
    "df.Price.plot()"
   ]
  },
  {
   "cell_type": "code",
   "execution_count": 7,
   "metadata": {},
   "outputs": [
    {
     "data": {
      "text/plain": [
       "'\\nIn this example we will use  asimple trend-following strategy using technical analysis.\\nTA is highly respected in the crypto market, which makes this a suitable strategy for this asset.\\n\\nIf the asset was rising by x % -> buy\\nexit when profits is above 0.15 % or loss is crossing -0.15% \\n'"
      ]
     },
     "execution_count": 7,
     "metadata": {},
     "output_type": "execute_result"
    }
   ],
   "source": [
    "#Strategy implementation \n",
    "\n",
    "\"\"\"\n",
    "In this example we will use  asimple trend-following strategy using technical analysis.\n",
    "TA is highly respected in the crypto market, which makes this a suitable strategy for this asset.\n",
    "\n",
    "If the asset was rising by x % -> buy\n",
    "exit when profits is above 0.15 % or loss is crossing -0.15% \n",
    "\"\"\""
   ]
  },
  {
   "cell_type": "code",
   "execution_count": 8,
   "metadata": {},
   "outputs": [],
   "source": [
    "def strategy (entry, lookback, qty, open_position = False):\n",
    "    # entry which is the x, lookback which is the last seconds in time( time steps 1 is 1 sec) , and qty which is amount we want to trade\n",
    "    while True: # requesting data from df \n",
    "        df = pd.read_sql('BTCUSDT', engine)\n",
    "        lookbackperiod = df.iloc[-lookback:]\n",
    "        #Cumualitve return formula \n",
    "        cumret = (lookbackperiod.Price.pct_change() +1 ).cumprod() -1\n",
    "        if not open_position:\n",
    "            if cumret[cumret.last_valid_index()]> entry:\n",
    "                #execute order\n",
    "                order = client.create_order(symbol = 'BTCUSDT', side = 'BUY', type = 'MARKET', quantity = qty)\n",
    "                print(order)\n",
    "                open_position = True\n",
    "                break # Important to avoid opening mulitple positions \n",
    "    if open_position:\n",
    "        while True:\n",
    "            df = pd.read_sql('BTCUSDT', engine)\n",
    "            sincebuy = df.loc[df.Time>pd.to_datetime(order['transactTime'],unit ='ms')]\n",
    "            \n",
    "            if len(sincebuy)> 1:\n",
    "                    sincebuyret = (sincebuy.Price.pct_change() +1).cumprod() -1\n",
    "                    last_entry = sincebuyret[sincebuyret.last_valid_index()]\n",
    "                    if last_entry > 0.0015 or last_entry < -0.0015:\n",
    "                        order = client.create_order(symbol = 'BTCUSDT', side = 'SELL', type = 'MARKET', quantity = qty)\n",
    "                        print(order)\n",
    "                        break\n"
   ]
  },
  {
   "cell_type": "code",
   "execution_count": null,
   "metadata": {},
   "outputs": [],
   "source": [
    "strategy(0.001,60,0.001)\n",
    "#Asset risen by 0.01% over last 60 seconds\n"
   ]
  },
  {
   "cell_type": "code",
   "execution_count": null,
   "metadata": {},
   "outputs": [],
   "source": []
  }
 ],
 "metadata": {
  "kernelspec": {
   "display_name": "Python 3",
   "language": "python",
   "name": "python3"
  },
  "language_info": {
   "codemirror_mode": {
    "name": "ipython",
    "version": 3
   },
   "file_extension": ".py",
   "mimetype": "text/x-python",
   "name": "python",
   "nbconvert_exporter": "python",
   "pygments_lexer": "ipython3",
   "version": "3.7.6"
  }
 },
 "nbformat": 4,
 "nbformat_minor": 4
}
